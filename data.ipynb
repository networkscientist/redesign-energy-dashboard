{
 "cells": [
  {
   "cell_type": "code",
   "execution_count": 3,
   "id": "bbfba2c4",
   "metadata": {},
   "outputs": [],
   "source": [
    "import pandas as pd\n",
    "import matplotlib.pyplot as plt\n",
    "\n",
    "# Load the CSV file\n",
    "df = pd.read_csv(\"gebaeude_batiment_edificio.csv\", sep=\"\\t\", low_memory=False)"
   ]
  },
  {
   "cell_type": "code",
   "execution_count": 7,
   "id": "27c1da19",
   "metadata": {},
   "outputs": [
    {
     "name": "stdout",
     "output_type": "stream",
     "text": [
      "        GGDENAME  Energieträger\n",
      "0        Aarberg            945\n",
      "1      Aarwangen           1258\n",
      "2      Adelboden           1872\n",
      "3       Aefligen            351\n",
      "4       Aegerten            559\n",
      "..           ...            ...\n",
      "330    Zielebach            118\n",
      "331   Zollikofen           1750\n",
      "332  Zuzwil (BE)            188\n",
      "333   Zweisimmen           1338\n",
      "334      Zäziwil            474\n",
      "\n",
      "[335 rows x 2 columns]\n"
     ]
    }
   ],
   "source": [
    "# Filter out rows with missing GENH1 and GSTAT value == 1004\n",
    "df_valid = df[(df['GENH1'].notna()) & (df['GSTAT'] == 1004)].copy()\n",
    "\n",
    "\n",
    "# Count number of buildings with a valid energy source per city\n",
    "city_energy_users = df_valid.groupby('GGDENAME').size().reset_index(name='Energieträger')\n",
    "\n",
    "# Show the result\n",
    "print(city_energy_users)\n",
    "\n",
    "city_energy_users.to_csv(\"city_energy_users.csv\", sep=\"\\t\", index=False)"
   ]
  },
  {
   "cell_type": "code",
   "execution_count": 8,
   "id": "b43ae0c2",
   "metadata": {},
   "outputs": [
    {
     "name": "stdout",
     "output_type": "stream",
     "text": [
      "  GGDENAME  Energieträger\n",
      "0  Aarberg            945\n"
     ]
    }
   ],
   "source": [
    "# Specify the city name\n",
    "city_name = \"Aarberg\"  # 👈 change this as needed\n",
    "\n",
    "# Filter and print result for that city\n",
    "print(city_energy_users[city_energy_users[\"GGDENAME\"] == city_name])\n"
   ]
  },
  {
   "cell_type": "code",
   "execution_count": 9,
   "id": "48f2c539",
   "metadata": {},
   "outputs": [
    {
     "name": "stdout",
     "output_type": "stream",
     "text": [
      "     GGDENAME Energieträger_Label  Anzahl\n",
      "0     Aarberg        Elektrizität      48\n",
      "1     Aarberg           Fernwärme      11\n",
      "2     Aarberg                 Gas     139\n",
      "3     Aarberg          Geothermie       4\n",
      "4     Aarberg              Heizöl     409\n",
      "...       ...                 ...     ...\n",
      "3048  Zäziwil                Holz     112\n",
      "3049  Zäziwil               Keine      33\n",
      "3050  Zäziwil                Luft      37\n",
      "3051  Zäziwil               Sonne       4\n",
      "3052  Zäziwil             Weitere      61\n",
      "\n",
      "[3053 rows x 3 columns]\n"
     ]
    }
   ],
   "source": [
    "# Filter rows with valid GENH1 and GSTAT == 1004\n",
    "df_valid = df[(df['GENH1'].notna()) & (df['GSTAT'] == 1004)].copy()\n",
    "df_valid['GENH1'] = df_valid['GENH1'].astype(int)\n",
    "\n",
    "# Map GENH1 to readable labels\n",
    "GENH1_LABELS = {\n",
    "    7500: \"Keine\",\n",
    "    7501: \"Luft\",\n",
    "    7510: \"Geothermie\", 7511: \"Geothermie\", 7512: \"Geothermie\",\n",
    "    7513: \"Wasser\",\n",
    "    7520: \"Gas\",\n",
    "    7530: \"Heizöl\",\n",
    "    7540: \"Holz\", 7541: \"Holz\", 7542: \"Holz\", 7543: \"Holz\",\n",
    "    7570: \"Abwärme\",\n",
    "    7560: \"Elektrizität\",\n",
    "    7570: \"Sonne\",\n",
    "    7580: \"Fernwärme\", 7581: \"Fernwärme\", 7582: \"Fernwärme\",\n",
    "    7598: \"Weitere\", 7599: \"Weitere\"\n",
    "}\n",
    "\n",
    "# Apply label mapping\n",
    "df_valid['Energieträger_Label'] = df_valid['GENH1'].map(GENH1_LABELS)\n",
    "\n",
    "# Keep only rows with known label\n",
    "df_valid = df_valid[df_valid['Energieträger_Label'].notna()]\n",
    "\n",
    "# Group by city and label\n",
    "city_energy_by_label = df_valid.groupby(['GGDENAME', 'Energieträger_Label']).size().reset_index(name='Anzahl')\n",
    "\n",
    "# Show result\n",
    "print(city_energy_by_label)\n",
    "\n"
   ]
  },
  {
   "cell_type": "code",
   "execution_count": 10,
   "id": "95e174af",
   "metadata": {},
   "outputs": [
    {
     "name": "stdout",
     "output_type": "stream",
     "text": [
      "     GGDENAME Energieträger_Label  Anzahl\n",
      "2556     Thun        Elektrizität     237\n",
      "2557     Thun           Fernwärme     103\n",
      "2558     Thun                 Gas    3197\n",
      "2559     Thun          Geothermie      37\n",
      "2560     Thun              Heizöl    2976\n",
      "2561     Thun                Holz     297\n",
      "2562     Thun               Keine     508\n",
      "2563     Thun                Luft     338\n",
      "2564     Thun               Sonne       9\n",
      "2565     Thun              Wasser      72\n",
      "2566     Thun             Weitere     549\n",
      "\n",
      "Total buildings with GENH1 in Thun: 8323\n"
     ]
    }
   ],
   "source": [
    "# Specify the city\n",
    "city_name = \"Thun\"  # 👈 change this to any city you want\n",
    "\n",
    "# Filter and display the result for that city\n",
    "city_specific_labels = city_energy_by_label[city_energy_by_label[\"GGDENAME\"] == city_name]\n",
    "\n",
    "# Calculate the total from the filtered table\n",
    "total = city_specific_labels[\"Anzahl\"].sum()\n",
    "\n",
    "# Show results\n",
    "print(city_specific_labels)\n",
    "print(f\"\\nTotal buildings with GENH1 in {city_name}: {total}\")\n"
   ]
  },
  {
   "cell_type": "code",
   "execution_count": 11,
   "id": "29392c66",
   "metadata": {},
   "outputs": [],
   "source": [
    "city_energy_by_label.to_csv(\"city_energy_by_label.csv\", index=False)\n"
   ]
  },
  {
   "cell_type": "code",
   "execution_count": 12,
   "id": "06a7c585",
   "metadata": {},
   "outputs": [
    {
     "name": "stdout",
     "output_type": "stream",
     "text": [
      "      bfs_nr municipality canton  bfs_municipality_type_2012_25  \\\n",
      "8044     301      Aarberg     BE                            216   \n",
      "8045     301      Aarberg     BE                            216   \n",
      "8046     301      Aarberg     BE                            216   \n",
      "8047     301      Aarberg     BE                            216   \n",
      "8048     301      Aarberg     BE                            216   \n",
      "\n",
      "     energyreporter_date  electric_car_share  electric_car_count  \\\n",
      "8044          2021-03-31            0.010551                  32   \n",
      "8045          2021-04-30            0.012231                  37   \n",
      "8046          2021-05-31            0.013491                  41   \n",
      "8047          2021-06-30            0.013412                  41   \n",
      "8048          2021-07-31            0.014080                  43   \n",
      "\n",
      "     electric_car_share_last_change  electric_car_charging_spot_count  \\\n",
      "8044                     2020-12-31                               NaN   \n",
      "8045                     2021-03-31                               NaN   \n",
      "8046                     2021-04-30                               NaN   \n",
      "8047                     2021-05-31                               NaN   \n",
      "8048                     2021-06-30                               NaN   \n",
      "\n",
      "      electric_cars_per_charging_spot  ... elec_consumption_date_until  \\\n",
      "8044                              NaN  ...                         NaN   \n",
      "8045                              NaN  ...                         NaN   \n",
      "8046                              NaN  ...                         NaN   \n",
      "8047                              NaN  ...                         NaN   \n",
      "8048                              NaN  ...                         NaN   \n",
      "\n",
      "      renelec_production_mwh_per_year_per_capita  \\\n",
      "8044                                         NaN   \n",
      "8045                                         NaN   \n",
      "8046                                         NaN   \n",
      "8047                                         NaN   \n",
      "8048                                         NaN   \n",
      "\n",
      "      renelec_production_mwh_per_year renelec_production_water_mwh_per_year  \\\n",
      "8044                              NaN                                   NaN   \n",
      "8045                              NaN                                   NaN   \n",
      "8046                              NaN                                   NaN   \n",
      "8047                              NaN                                   NaN   \n",
      "8048                              NaN                                   NaN   \n",
      "\n",
      "      renelec_production_solar_mwh_per_year  \\\n",
      "8044                                    NaN   \n",
      "8045                                    NaN   \n",
      "8046                                    NaN   \n",
      "8047                                    NaN   \n",
      "8048                                    NaN   \n",
      "\n",
      "      renelec_production_wind_mwh_per_year  \\\n",
      "8044                                   NaN   \n",
      "8045                                   NaN   \n",
      "8046                                   NaN   \n",
      "8047                                   NaN   \n",
      "8048                                   NaN   \n",
      "\n",
      "      renelec_production_biomass_mwh_per_year  \\\n",
      "8044                                      NaN   \n",
      "8045                                      NaN   \n",
      "8046                                      NaN   \n",
      "8047                                      NaN   \n",
      "8048                                      NaN   \n",
      "\n",
      "      renelec_production_waste_mwh_per_year  renelec_production_date_from  \\\n",
      "8044                                    NaN                           NaN   \n",
      "8045                                    NaN                           NaN   \n",
      "8046                                    NaN                           NaN   \n",
      "8047                                    NaN                           NaN   \n",
      "8048                                    NaN                           NaN   \n",
      "\n",
      "     renelec_production_date_until  \n",
      "8044                           NaN  \n",
      "8045                           NaN  \n",
      "8046                           NaN  \n",
      "8047                           NaN  \n",
      "8048                           NaN  \n",
      "\n",
      "[5 rows x 35 columns]\n"
     ]
    }
   ],
   "source": [
    "import pandas as pd\n",
    "\n",
    "# Load the full dataset\n",
    "df = pd.read_csv(\"energyreporter_municipality_historized.csv\")\n",
    "\n",
    "# Filter for canton of Bern (BE) — includes all historical entries\n",
    "bern_df = df[df[\"canton\"] == \"BE\"]\n",
    "\n",
    "# Show result\n",
    "print(bern_df.head())  # Optional: inspect\n",
    "\n",
    "bern_df.to_csv(\"bern_energyreporter.csv\", index=False)\n"
   ]
  }
 ],
 "metadata": {
  "kernelspec": {
   "display_name": "Python 3 (ipykernel)",
   "language": "python",
   "name": "python3"
  },
  "language_info": {
   "codemirror_mode": {
    "name": "ipython",
    "version": 3
   },
   "file_extension": ".py",
   "mimetype": "text/x-python",
   "name": "python",
   "nbconvert_exporter": "python",
   "pygments_lexer": "ipython3",
   "version": "3.9.16"
  }
 },
 "nbformat": 4,
 "nbformat_minor": 5
}
