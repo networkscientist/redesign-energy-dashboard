{
 "cells": [
  {
   "cell_type": "markdown",
   "id": "ccee5d0d",
   "metadata": {},
   "source": [
    "# Caricamento libreria"
   ]
  },
  {
   "cell_type": "code",
   "execution_count": null,
   "id": "9d72a915",
   "metadata": {},
   "outputs": [],
   "source": [
    "import pandas as pd\n",
    "\n",
    "# Sostituisci con i nomi reali dei tuoi file\n",
    "file_categorie = 'SubCategoryCatalogue.csv'\n",
    "file_consumo = 'ElectricityProductionPlant.csv'\n",
    "\n",
    "df_categorie = pd.read_csv(file_categorie)\n",
    "df_consumo = pd.read_csv(file_consumo)"
   ]
  },
  {
   "cell_type": "code",
   "execution_count": null,
   "id": "6882665c",
   "metadata": {},
   "outputs": [],
   "source": [
    "# Filtra solo il Canton BE\n",
    "df_consumo_be = df_consumo[df_consumo['Canton'] == 'BE']"
   ]
  },
  {
   "cell_type": "code",
   "execution_count": null,
   "id": "5a085f15",
   "metadata": {},
   "outputs": [],
   "source": [
    "\n",
    "# Raggruppa per Municipality E MainCategory\n",
    "grouped = df_consumo_be.groupby(\n",
    "    ['Municipality', 'SubCategory']\n",
    ")['TotalPower'].sum().reset_index()"
   ]
  },
  {
   "cell_type": "code",
   "execution_count": null,
   "id": "5c650c27",
   "metadata": {},
   "outputs": [],
   "source": [
    "# Unisci con le descrizioni delle categorie\n",
    "merged = pd.merge(\n",
    "    grouped,\n",
    "    df_categorie[['Catalogue_id', 'en']],\n",
    "    left_on='SubCategory',\n",
    "    right_on='Catalogue_id',\n",
    "    how='left'\n",
    ")"
   ]
  },
  {
   "cell_type": "code",
   "execution_count": 8,
   "id": "249e451a",
   "metadata": {},
   "outputs": [
    {
     "data": {
      "text/html": [
       "<div>\n",
       "<style scoped>\n",
       "    .dataframe tbody tr th:only-of-type {\n",
       "        vertical-align: middle;\n",
       "    }\n",
       "\n",
       "    .dataframe tbody tr th {\n",
       "        vertical-align: top;\n",
       "    }\n",
       "\n",
       "    .dataframe thead th {\n",
       "        text-align: right;\n",
       "    }\n",
       "</style>\n",
       "<table border=\"1\" class=\"dataframe\">\n",
       "  <thead>\n",
       "    <tr style=\"text-align: right;\">\n",
       "      <th></th>\n",
       "      <th>Municipality</th>\n",
       "      <th>Category_EN</th>\n",
       "      <th>TotalPower</th>\n",
       "    </tr>\n",
       "  </thead>\n",
       "  <tbody>\n",
       "    <tr>\n",
       "      <th>0</th>\n",
       "      <td>Aarberg</td>\n",
       "      <td>Hydroelectric power</td>\n",
       "      <td>15000.00</td>\n",
       "    </tr>\n",
       "    <tr>\n",
       "      <th>1</th>\n",
       "      <td>Aarberg</td>\n",
       "      <td>Other renewable energies</td>\n",
       "      <td>19223.94</td>\n",
       "    </tr>\n",
       "    <tr>\n",
       "      <th>2</th>\n",
       "      <td>Aarwangen</td>\n",
       "      <td>Other renewable energies</td>\n",
       "      <td>4236.65</td>\n",
       "    </tr>\n",
       "    <tr>\n",
       "      <th>3</th>\n",
       "      <td>Abländschen</td>\n",
       "      <td>Other renewable energies</td>\n",
       "      <td>39.58</td>\n",
       "    </tr>\n",
       "    <tr>\n",
       "      <th>4</th>\n",
       "      <td>Achseten</td>\n",
       "      <td>Other renewable energies</td>\n",
       "      <td>342.21</td>\n",
       "    </tr>\n",
       "    <tr>\n",
       "      <th>...</th>\n",
       "      <td>...</td>\n",
       "      <td>...</td>\n",
       "      <td>...</td>\n",
       "    </tr>\n",
       "    <tr>\n",
       "      <th>1095</th>\n",
       "      <td>Zweisimmen</td>\n",
       "      <td>Other renewable energies</td>\n",
       "      <td>7.02</td>\n",
       "    </tr>\n",
       "    <tr>\n",
       "      <th>1096</th>\n",
       "      <td>Zwieselberg</td>\n",
       "      <td>Other renewable energies</td>\n",
       "      <td>349.73</td>\n",
       "    </tr>\n",
       "    <tr>\n",
       "      <th>1097</th>\n",
       "      <td>Zwischenflüh</td>\n",
       "      <td>Other renewable energies</td>\n",
       "      <td>136.79</td>\n",
       "    </tr>\n",
       "    <tr>\n",
       "      <th>1098</th>\n",
       "      <td>Zäziwil</td>\n",
       "      <td>Other renewable energies</td>\n",
       "      <td>1460.01</td>\n",
       "    </tr>\n",
       "    <tr>\n",
       "      <th>1099</th>\n",
       "      <td>lenk im Simmental</td>\n",
       "      <td>Other renewable energies</td>\n",
       "      <td>19.20</td>\n",
       "    </tr>\n",
       "  </tbody>\n",
       "</table>\n",
       "<p>1100 rows × 3 columns</p>\n",
       "</div>"
      ],
      "text/plain": [
       "           Municipality               Category_EN  TotalPower\n",
       "0               Aarberg       Hydroelectric power    15000.00\n",
       "1               Aarberg  Other renewable energies    19223.94\n",
       "2             Aarwangen  Other renewable energies     4236.65\n",
       "3           Abländschen  Other renewable energies       39.58\n",
       "4              Achseten  Other renewable energies      342.21\n",
       "...                 ...                       ...         ...\n",
       "1095        Zweisimmen   Other renewable energies        7.02\n",
       "1096        Zwieselberg  Other renewable energies      349.73\n",
       "1097       Zwischenflüh  Other renewable energies      136.79\n",
       "1098            Zäziwil  Other renewable energies     1460.01\n",
       "1099  lenk im Simmental  Other renewable energies       19.20\n",
       "\n",
       "[1100 rows x 3 columns]"
      ]
     },
     "execution_count": 8,
     "metadata": {},
     "output_type": "execute_result"
    }
   ],
   "source": [
    "# Seleziona e rinomina le colonne\n",
    "final_df = merged[['Municipality', 'en', 'TotalPower']].rename(\n",
    "    columns={'en': 'Category_EN'}\n",
    ")\n",
    "\n",
    "# Visualizza il risultato\n",
    "final_df"
   ]
  },
  {
   "cell_type": "code",
   "execution_count": 9,
   "id": "d1dee06f",
   "metadata": {},
   "outputs": [],
   "source": [
    "final_df.to_csv('consumo_per_municipality_categoria.csv', index=False)"
   ]
  }
 ],
 "metadata": {
  "kernelspec": {
   "display_name": "Python 3",
   "language": "python",
   "name": "python3"
  },
  "language_info": {
   "codemirror_mode": {
    "name": "ipython",
    "version": 3
   },
   "file_extension": ".py",
   "mimetype": "text/x-python",
   "name": "python",
   "nbconvert_exporter": "python",
   "pygments_lexer": "ipython3",
   "version": "3.13.3"
  }
 },
 "nbformat": 4,
 "nbformat_minor": 5
}
